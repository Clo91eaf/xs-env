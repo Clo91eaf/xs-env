{
 "cells": [
  {
   "cell_type": "markdown",
   "id": "aeeb37c5",
   "metadata": {},
   "source": [
    "# 使用 Nexus-AM 编译负载"
   ]
  },
  {
   "cell_type": "markdown",
   "id": "b5240d69",
   "metadata": {},
   "source": [
    "Nexus-AM 是一个裸机运行时测试生成环境。它轻量且易于使用，并且实现了基本的系统调用接口和异常处理程序。此外，它还支持多种 ISA 和配置。\n",
    "\n",
    "`am/` 下是 nexus-am 框架的源码，`apps/` 和 `tests/` 则是常用的软件负载源码，您也可以创建自己的 app 和 test。"
   ]
  },
  {
   "cell_type": "code",
   "execution_count": 4,
   "id": "f7672178",
   "metadata": {},
   "outputs": [
    {
     "name": "stdout",
     "output_type": "stream",
     "text": [
      "\u001b[01;34m.\u001b[0m\n",
      "├── \u001b[01;34mam\u001b[0m\n",
      "├── \u001b[01;34mapps\u001b[0m\n",
      "├── \u001b[01;34mdocs\u001b[0m\n",
      "├─��� \u001b[01;34mlibs\u001b[0m\n",
      "├── \u001b[01;34mshare\u001b[0m\n",
      "├── \u001b[01;34mtests\u001b[0m\n",
      "└── \u001b[01;34mtools\u001b[0m\n",
      "\n",
      "7 directories\n",
      "apps: coremark dhrystone dummy-bootrom fceux hello hpmdriver icache-ecc-test litenes litenes_opt loader maprobe mem_test microbench rva-trigger rvv-trigger slider stream tsvc typing zcb-test\n",
      "tests: aliasgenerator aliastest amtest bitmanip cacheoptest cachetest countertest cputest crypto dualcoretest frequencytest frontendtest klibtest memscantest mmiotest oraclebptest softmdutest softprefetchtest zacas\n"
     ]
    }
   ],
   "source": [
    "%%bash\n",
    "cd ../ && source env.sh >/dev/null\n",
    "cd $AM_HOME\n",
    "\n",
    "tree -d -L 1\n",
    "\n",
    "echo apps: $(ls ./apps)\n",
    "echo tests: $(ls ./tests)"
   ]
  },
  {
   "cell_type": "markdown",
   "id": "64f7481a",
   "metadata": {},
   "source": [
    "我们以一开始运行的 Hello, XiangShan 为例，其源码位于 `apps/hello` 目录下，我们将其输出的 “Hello, XiangShan” 替换为 “Welcome to XiangShan Turtorial” 进行编译。\n",
    "\n",
    "此处传入 ARCH=riscv64-xs 编译到 riscv64 架构的 XiangShan 目标。\n",
    "\n",
    "默认情况下，riscv64 架构使用 riscv64-unknown-elf- 工具链，本次 tutorial 我们使用 GNU 工具链（riscv64-linux-gnu-），故传入 LINUX_GNU_TOOLCHAIN=1。\n",
    "\n",
    "参考文件：\n",
    "- `am/arch/isa/riscv64.mk`\n",
    "- `am/arch/riscv64-xs.mk`"
   ]
  },
  {
   "cell_type": "code",
   "execution_count": 5,
   "id": "85923436",
   "metadata": {},
   "outputs": [
    {
     "name": "stdout",
     "output_type": "stream",
     "text": [
      "# Building hello [riscv64-xs] with AM_HOME {/home/guest/xs-env/nexus-am}\n",
      "+ CC hello.c\n",
      "# Building lib-am [riscv64-xs]\n",
      "+ CC src/noop/isa/riscv/trm.c\n",
      "+ AS src/nemu/common/mainargs.S\n",
      "+ CC src/noop/isa/riscv/perf.c\n",
      "+ CC src/noop/common/uartlite.c\n",
      "+ CC src/noop/common/serial-16550.c\n",
      "+ CC src/nemu/isa/riscv/cte.c\n",
      "+ AS src/nemu/isa/riscv/trap.S\n",
      "+ CC src/nemu/isa/riscv/cte64.c\n",
      "+ AS src/nemu/isa/riscv/mtime.S\n",
      "+ CC src/nemu/isa/riscv/vme.c\n",
      "+ CC src/xs/common/ioe.c\n",
      "+ CC src/noop/common/input.c\n",
      "+ CC src/noop/common/timer.c\n",
      "+ CC src/noop/isa/riscv/instr.c\n",
      "+ CC src/xs/isa/riscv/mpe.c\n",
      "+ CC src/xs/isa/riscv/clint.c\n",
      "+ CC src/xs/isa/riscv/pmp.c\n",
      "+ CC src/xs/isa/riscv/plic.c\n",
      "+ CC src/xs/isa/riscv/pma.c\n",
      "+ CC src/xs/isa/riscv/cache.c\n",
      "+ AS src/nemu/isa/riscv/boot/start.S\n",
      "+ AR -> build/am-riscv64-xs.a\n",
      "# Building lib-klib [riscv64-xs]\n",
      "+ CC src/atomic.c\n",
      "+ CC src/cpp.c\n",
      "+ CC src/int64.c\n",
      "+ CC src/io.c\n",
      "+ CC src/printf.c\n",
      "+ CC src/stdlib.c\n",
      "+ CC src/string.c\n",
      "+ AR -> build/klib-riscv64-xs.a\n",
      "# Creating binary image [riscv64-xs]\n",
      "+ LD -> build/hello-riscv64-xs.elf\n",
      "+ OBJCOPY -> build/hello-riscv64-xs.bin\n",
      "total 144\n",
      "-rwxr-xr-x 1 guest guest  5408 Jul 13 16:52 hello-riscv64-xs.bin\n",
      "-rwxr-xr-x 1 guest guest 54376 Jul 13 16:52 hello-riscv64-xs.elf\n",
      "-rw-r--r-- 1 guest guest 79815 Jul 13 16:52 hello-riscv64-xs.txt\n",
      "drwxr-xr-x 1 guest guest    28 Jul 13 16:52 riscv64-xs\n"
     ]
    }
   ],
   "source": [
    "%%bash\n",
    "cd ../ && source env.sh >/dev/null\n",
    "cd $AM_HOME/apps/hello\n",
    "\n",
    "# 使用 sed 将 “Hello, XiangShan” 替换为 “Welcome to XiangShan Turtorial”\n",
    "sed -i 's/Hello, XiangShan/Welcome to XiangShan Turtorial/' hello.c\n",
    "\n",
    "# 进行编译\n",
    "make ARCH=riscv64-xs LINUX_GNU_TOOLCHAIN=1\n",
    "\n",
    "# 查看编译输出\n",
    "ls -l build"
   ]
  },
  {
   "cell_type": "markdown",
   "id": "8b8774a5",
   "metadata": {},
   "source": [
    "编译得到以下三个文件：\n",
    "- hello-riscv64-xs.bin：程序二进制镜像（ELF 文件剥离 ELF header 等元数据），供 emu 运行使用\n",
    "- hello-riscv64-xs.elf：程序的 ELF 文件\n",
    "- hello-riscv64-xs.txt：程序的反汇编结果，供调试时查看"
   ]
  },
  {
   "cell_type": "code",
   "execution_count": 7,
   "id": "cec8e308",
   "metadata": {},
   "outputs": [
    {
     "name": "stdout",
     "output_type": "stream",
     "text": [
      "emu compiled at Jul  9 2025, 13:02:33\n",
      "Using simulated 32768B flash\n",
      "Core  0's Commit SHA is: 6933700098, dirty: 0\n",
      "Using simulated 8386560MB RAM\n",
      "The image is /home/guest/xs-env/nexus-am/apps/hello/build/hello-riscv64-xs.bin\n",
      "Welcome to XiangShan Turtorial!\n",
      "Core 0: \u001b[32mHIT GOOD TRAP at pc = 0x8000014c\n",
      "\u001b[0m\u001b[35mCore-0 instrCnt = 864, cycleCnt = 5840, IPC = 0.147945\n",
      "\u001b[0m\u001b[34mSeed=0 Guest cycle spent: 5845 (this will be different from cycleCnt if emu loads a snapshot)\n",
      "\u001b[0m\u001b[34mHost time spent: 756ms\n",
      "\u001b[0m"
     ]
    }
   ],
   "source": [
    "%%bash\n",
    "cd ../ && source env.sh >/dev/null\n",
    "cd $NOOP_HOME\n",
    "\n",
    "# 使用 emu 运行新编译的软件负载\n",
    "./build/emu -i $AM_HOME/apps/hello/build/hello-riscv64-xs.bin --no-diff 2>/dev/null"
   ]
  },
  {
   "cell_type": "markdown",
   "id": "3d14b8ab",
   "metadata": {},
   "source": [
    "当传入的 ARCH 不支持时，make 会打印出所有支持的 ARCH，`|| true` 是为了避免返回值非 0 导致 notebook 报错，您在实际使用中只需要执行 `make ARCH=` 即可"
   ]
  },
  {
   "cell_type": "code",
   "execution_count": 8,
   "id": "c0319f33",
   "metadata": {},
   "outputs": [
    {
     "name": "stderr",
     "output_type": "stream",
     "text": [
      "Makefile.check:16: *** Invalid ARCH. Supported: am_native-navy mips32-navy mips32-nemu mips32-sdi native riscv32-navy riscv32-nemu riscv32-noop riscv32-sdi riscv64-navy riscv64-nemu riscv64-noop riscv64-nutshell riscv64-sdi riscv64-xs-dual riscv64-xs-flash riscv64-xs-southlake-flash riscv64-xs-southlake riscv64-xs x86-navy x86-nemu x86-qemu x86-sdi x86_64-qemu.  Stop.\n"
     ]
    }
   ],
   "source": [
    "%%bash\n",
    "cd ../ && source env.sh >/dev/null\n",
    "cd $AM_HOME\n",
    "\n",
    "make ARCH= || true"
   ]
  }
 ],
 "metadata": {
  "kernelspec": {
   "display_name": ".venv",
   "language": "python",
   "name": "python3"
  },
  "language_info": {
   "codemirror_mode": {
    "name": "ipython",
    "version": 3
   },
   "file_extension": ".py",
   "mimetype": "text/x-python",
   "name": "python",
   "nbconvert_exporter": "python",
   "pygments_lexer": "ipython3",
   "version": "3.10.12"
  }
 },
 "nbformat": 4,
 "nbformat_minor": 5
}
