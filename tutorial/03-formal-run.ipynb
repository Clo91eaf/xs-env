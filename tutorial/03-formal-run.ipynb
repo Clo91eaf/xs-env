{
 "cells": [
  {
   "cell_type": "markdown",
   "id": "eb0a29ab",
   "metadata": {},
   "source": [
    "# 运行 RTL 仿真\n",
    "\n",
    "香山的 emu 支持多种参数。您可以使用 `--help` 查看 emu 的使用方法"
   ]
  },
  {
   "cell_type": "code",
   "execution_count": null,
   "id": "0209c508",
   "metadata": {},
   "outputs": [],
   "source": [
    "%%bash\n",
    "cd ../ && source env.sh >/dev/null\n",
    "cd $NOOP_HOME\n",
    "\n",
    "./build/emu --help"
   ]
  },
  {
   "cell_type": "markdown",
   "id": "2fa6557b",
   "metadata": {},
   "source": [
    "和 01-first-run 章节不同，这次我们跑一个稍微复杂一些的程序：2 轮的 Coremark。这一程序的二进制已经在 Xiangshan/ready-to-run 文件夹中准备好了"
   ]
  },
  {
   "cell_type": "code",
   "execution_count": null,
   "id": "76a50d73",
   "metadata": {},
   "outputs": [],
   "source": [
    "%%bash\n",
    "cd ../ && source env.sh >/dev/null\n",
    "cd $NOOP_HOME\n",
    "\n",
    "./build/emu -i ready-to-run/coremark-2-iteration.bin --no-diff 2>/dev/null"
   ]
  },
  {
   "cell_type": "markdown",
   "id": "d7be932f",
   "metadata": {},
   "source": [
    "我们还准备了两个在香山中注入错误的仿真程序，您可以试着运行它们，并尝试定位一下这两个错误"
   ]
  },
  {
   "cell_type": "code",
   "execution_count": null,
   "id": "0a5d9aa2",
   "metadata": {},
   "outputs": [],
   "source": [
    "%%bash\n",
    "cd ../ && source env.sh >/dev/null\n",
    "cd $NOOP_HOME\n",
    "\n",
    "# 错误 1\n",
    "./build/emu_error1 -i ready-to-run/coremark-2-iteration.bin --no-diff 2>/dev/null"
   ]
  },
  {
   "cell_type": "code",
   "execution_count": null,
   "id": "7602ad1a",
   "metadata": {},
   "outputs": [],
   "source": [
    "%%bash\n",
    "cd ../ && source env.sh >/dev/null\n",
    "cd $NOOP_HOME\n",
    "\n",
    "# 错误 2\n",
    "./build/emu_error2 -i ready-to-run/coremark-2-iteration.bin --no-diff 2>/dev/null"
   ]
  }
 ],
 "metadata": {
  "kernelspec": {
   "display_name": ".venv",
   "language": "python",
   "name": "python3"
  },
  "language_info": {
   "codemirror_mode": {
    "name": "ipython",
    "version": 3
   },
   "file_extension": ".py",
   "mimetype": "text/x-python",
   "name": "python",
   "nbconvert_exporter": "python",
   "pygments_lexer": "ipython3",
   "version": "3.10.12"
  }
 },
 "nbformat": 4,
 "nbformat_minor": 5
}
