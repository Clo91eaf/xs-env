{
 "cells": [
  {
   "cell_type": "markdown",
   "id": "588d03d7",
   "metadata": {},
   "source": [
    "# NEMU：ISA 参考\n",
    "\n",
    "我们提出了一个类似于 Spike 的指令集模拟器 NEMU。通过优化技术，NEMU 实现了与 QEMU 类似的性能。此外，NEMU 还提供了一组 API 来帮助 XiangShan 比较和验证架构状态。\n",
    "\n",
    "NEMU 主要有两种配置类型。"
   ]
  },
  {
   "cell_type": "code",
   "execution_count": 1,
   "id": "9d26e370",
   "metadata": {},
   "outputs": [
    {
     "name": "stdout",
     "output_type": "stream",
     "text": [
      "rm -rf /home/guest/xs-env/NEMU/build\n",
      "+ CC src/nemu-main.c\n",
      "+ CC src/device/alarm.c\n",
      "+ CC src/device/device.c\n",
      "+ CC src/device/intr.c\n",
      "+ CC src/device/uartlite.c\n",
      "+ CC src/device/plic.c\n",
      "+ CC src/device/keyboard.c\n",
      "+ CC src/device/vga.c\n",
      "+ CC src/device/sdcard.c\n",
      "+ CC src/cpu/cpu-exec.c\n",
      "+ CC src/cpu/difftest/dut.c\n",
      "+ CC src/cpu/difftest/ref.c\n",
      "+ CC src/cpu/tcache.c\n",
      "+ CC src/monitor/aligncheck.c\n",
      "+ CC src/monitor/image_loader.c\n",
      "+ CC src/monitor/monitor.c\n",
      "+ CC src/monitor/ui.c\n",
      "+ CC src/monitor/watchpoint.c\n",
      "+ CC src/utils/br_log.c\n",
      "+ CC src/utils/dynamic-config.c\n",
      "+ CC src/utils/expr.c\n",
      "+ CC src/utils/filename.c\n",
      "+ CC src/utils/iqueue.c\n",
      "+ CC src/utils/log.c\n",
      "+ CC src/utils/state.c\n",
      "+ CC src/utils/timer.c\n",
      "+ CC src/memory/host-tlb.c\n",
      "+ CC src/memory/paddr.c\n",
      "+ CC src/memory/vaddr.c\n",
      "+ CC src/isa/riscv64/clint.c\n",
      "+ CC src/isa/riscv64/difftest/dut.c\n",
      "+ CC src/isa/riscv64/difftest/ref.c\n",
      "+ CC src/isa/riscv64/init.c\n",
      "+ CC src/isa/riscv64/instr/decode.c\n",
      "+ CC src/isa/riscv64/instr/fp.c\n",
      "+ CC src/isa/riscv64/instr/priv/system.c\n",
      "+ CC src/isa/riscv64/instr/rva/amo.c\n",
      "+ CC src/isa/riscv64/instr/rvcbo/cbo_impl.c\n",
      "+ CC src/isa/riscv64/instr/rvk/aes_common.c\n",
      "+ CC src/isa/riscv64/instr/rvv/vcommon.c\n",
      "+ CC src/isa/riscv64/instr/rvv/vcompute_impl.c\n",
      "+ CC src/isa/riscv64/instr/rvv/vldst_impl.c\n",
      "+ CC src/isa/riscv64/instr/rvv/vreg_impl.c\n",
      "+ CC src/isa/riscv64/instr/vp.c\n",
      "+ CC src/isa/riscv64/logo.c\n",
      "+ CC src/isa/riscv64/reg.c\n",
      "+ CC src/isa/riscv64/system/aia.c\n",
      "+ CC src/isa/riscv64/system/intr.c\n",
      "+ CC src/isa/riscv64/system/mmu.c\n",
      "+ CC src/isa/riscv64/system/priv.c\n",
      "+ CC src/isa/riscv64/system/timer.c\n",
      "+ CC src/isa/riscv64/system/trigger.c\n",
      "+ CC src/engine/interpreter/fp.c\n",
      "+ CC src/engine/interpreter/hostcall.c\n",
      "+ CC src/engine/interpreter/init.c\n",
      "+ CC src/device/io/map.c\n",
      "+ CC src/device/io/mmio.c\n",
      "+ CC src/device/io/port-io.c\n",
      "+ CC src/profiling/profiling_control.c\n",
      "+ CC src/checkpoint/cpt_env.c\n",
      "+ CXX src/checkpoint/path_manager.cpp\n",
      "+ CXX src/checkpoint/semantic_point.cpp\n",
      "+ CXX src/checkpoint/serializer.cpp\n",
      "+ CXX src/checkpoint/simpoint.cpp\n",
      "+ CXX src/base/output.cpp\n",
      "+ CXX src/iostream3/zfstream.cpp\n",
      "+ CXX src/memory/store_queue_wrapper.cpp\n",
      "+ ccache g++ /home/guest/xs-env/NEMU/build/riscv64-nemu-interpreter\n",
      "make -s -C /home/guest/xs-env/NEMU/resource/softfloat/repo/build/Linux-x86_64-GCC clean\n"
     ]
    },
    {
     "name": "stderr",
     "output_type": "stream",
     "text": [
      "Makefile:40: You have set CONFIG_FLASH_IMG_PATH option, but the specified path '\"\"' does not exist!\n"
     ]
    },
    {
     "name": "stdout",
     "output_type": "stream",
     "text": [
      "+ CC src/nemu-main.c\n",
      "+ CC src/device/device.c\n",
      "+ CC src/device/alarm.c\n",
      "+ CC src/device/flash.c\n",
      "+ CC src/device/intr.c\n",
      "+ CC src/cpu/cpu-exec.c\n",
      "+ CC src/cpu/difftest/dut.c\n",
      "+ CC src/cpu/difftest/ref.c\n",
      "+ CC src/cpu/tcache.c\n",
      "+ CC src/monitor/aligncheck.c\n",
      "+ CC src/monitor/monitor.c\n",
      "+ CC src/monitor/image_loader.c\n",
      "+ CC src/monitor/ui.c\n",
      "+ CC src/monitor/watchpoint.c\n",
      "+ CC src/utils/br_log.c\n",
      "+ CC src/utils/dynamic-config.c\n",
      "+ CC src/utils/expr.c\n",
      "+ CC src/utils/filename.c\n",
      "+ CC src/utils/iqueue.c\n",
      "+ CC src/utils/log.c\n",
      "+ CC src/utils/state.c\n",
      "+ CC src/utils/timer.c\n",
      "+ CC src/memory/host-tlb.c\n",
      "+ CC src/memory/paddr.c\n",
      "+ CC src/memory/vaddr.c\n",
      "+ CC src/isa/riscv64/clint.c\n",
      "+ CC src/isa/riscv64/difftest/dut.c\n",
      "+ CC src/isa/riscv64/difftest/ref.c\n",
      "+ CC src/isa/riscv64/init.c\n",
      "+ CC src/isa/riscv64/instr/decode.c\n",
      "+ CC src/isa/riscv64/instr/fp.c\n",
      "+ CC src/isa/riscv64/instr/priv/system.c\n",
      "+ CC src/isa/riscv64/instr/rva/amo.c\n",
      "+ CC src/isa/riscv64/instr/rvcbo/cbo_impl.c\n",
      "+ CC src/isa/riscv64/instr/rvk/aes_common.c\n",
      "+ CC src/isa/riscv64/instr/rvv/vcompute_impl.c\n",
      "+ CC src/isa/riscv64/instr/rvv/vcommon.c\n",
      "+ CC src/isa/riscv64/instr/rvv/vldst_impl.c\n",
      "+ CC src/isa/riscv64/instr/rvv/vreg_impl.c\n",
      "+ CC src/isa/riscv64/logo.c\n",
      "+ CC src/isa/riscv64/instr/vp.c\n",
      "+ CC src/isa/riscv64/reg.c\n",
      "+ CC src/isa/riscv64/system/aia.c\n",
      "+ CC src/isa/riscv64/system/intr.c\n",
      "+ CC src/isa/riscv64/system/mmu.c\n",
      "+ CC src/isa/riscv64/system/priv.c\n",
      "+ CC src/isa/riscv64/system/timer.c\n",
      "+ CC src/isa/riscv64/system/trigger.c\n",
      "+ CC src/engine/interpreter/fp.c\n",
      "+ CC src/engine/interpreter/hostcall.c\n",
      "+ CC src/engine/interpreter/init.c\n",
      "+ CC src/device/io/map.c\n",
      "+ CC src/device/io/mmio.c\n",
      "+ CC src/device/io/port-io.c\n",
      "+ CC src/profiling/profiling_control.c\n",
      "SPECIALIZE_TYPE=RISCV SOFTFLOAT_OPTS=\"-DSOFTFLOAT_ROUND_ODD -DINLINE_LEVEL=5 -DSOFTFLOAT_FAST_DIV32TO16 -DSOFTFLOAT_FAST_DIV64TO32 -fPIC\" make -s -C /home/guest/xs-env/NEMU/resource/softfloat/repo/build/Linux-x86_64-GCC all\n",
      "+ CXX src/memory/store_queue_wrapper.cpp\n",
      "mkdir -p resource/softfloat/build\n",
      "ln -sf /home/guest/xs-env/NEMU/resource/softfloat/repo/build/Linux-x86_64-GCC/softfloat.a resource/softfloat/build/softfloat.a\n",
      "+ ccache g++ /home/guest/xs-env/NEMU/build/riscv64-nemu-interpreter-so\n"
     ]
    }
   ],
   "source": [
    "%%bash\n",
    "cd ../ && source env.sh >/dev/null\n",
    "\n",
    "cd $NEMU_HOME\n",
    "### If you are building NEMU for the first time,\n",
    "### you will need to run the following command to configure it.\n",
    "### Here we have configured it in advance.\n",
    "# make menuconfig\n",
    "make clean\n",
    "make riscv64-xs_defconfig\n",
    "make -j\n",
    "make clean-softfloat\n",
    "make riscv64-xs-ref_defconfig\n",
    "make -j"
   ]
  },
  {
   "cell_type": "markdown",
   "id": "b906741c",
   "metadata": {},
   "source": [
    "在 NEMU 上运行 Coremark 工作负载。"
   ]
  },
  {
   "cell_type": "code",
   "execution_count": null,
   "id": "caa18103",
   "metadata": {},
   "outputs": [],
   "source": [
    "%%bash\n",
    "\n",
    "cd ../ && source env.sh >/dev/null\n",
    "\n",
    "cd $NEMU_HOME\n",
    "\n",
    "# 以批模式运行 workload\n",
    "\n",
    "./build/riscv64-nemu-interpreter -b $AM_HOME/apps/hello/build/hello-riscv64-xs.bin"
   ]
  },
  {
   "cell_type": "markdown",
   "id": "21ebe979",
   "metadata": {},
   "source": [
    "# Difftest：ISA 协同仿真框架\n",
    "\n",
    "我们提出了一个 ISA 协同仿真框架 Difftest。其基本流程如下：一旦我们的 RTL 处理器提交指令/更新其他状态，ISA 模拟器就会执行相同的指令。Difftest 会比较 DUT 和 REF 之间的架构状态。如果存在差异，它将停止运行并报告错误。否则，它将继续运行。\n",
    "\n",
    "在 XiangShan 上运行工作负载，并使用 NEMU 进行差分测试。"
   ]
  },
  {
   "cell_type": "code",
   "execution_count": null,
   "id": "0746baa9",
   "metadata": {},
   "outputs": [],
   "source": [
    "%%bash\n",
    "\n",
    "cd ../ && source env.sh >/dev/null\n",
    "\n",
    "cd $NOOP_HOME\n",
    "\n",
    "./build/emu -i $AM_HOME/apps/hello/build/hello-riscv64-xs.bin --diff $NEMU_HOME/build/riscv64-nemu-interpreter-so 2>perf.out"
   ]
  },
  {
   "cell_type": "markdown",
   "id": "8f4a3d51",
   "metadata": {},
   "source": [
    "可以在预编译好的，注入 bug 的香山处理器上运行工作负载，并使用 NEMU 进行差异测试。"
   ]
  },
  {
   "cell_type": "code",
   "execution_count": null,
   "id": "52abe97e",
   "metadata": {},
   "outputs": [],
   "source": [
    "%%bash\n",
    "\n",
    "cd ../ && source env.sh >/dev/null\n",
    "\n",
    "cd $NOOP_HOME\n",
    "\n",
    "./build/emu -i $AM_HOME/apps/hello/build/hello-riscv64-xs.bin --diff $NEMU_HOME/build/riscv64-nemu-interpreter-so"
   ]
  },
  {
   "cell_type": "markdown",
   "id": "41a2386c",
   "metadata": {},
   "source": [
    "Difftest 检测到错误后转储波形。"
   ]
  },
  {
   "cell_type": "code",
   "execution_count": null,
   "id": "b3351c7d",
   "metadata": {},
   "outputs": [],
   "source": [
    "%%bash\n",
    "\n",
    "cd ../ && source env.sh >/dev/null\n",
    "\n",
    "cd $NOOP_HOME\n",
    "\n",
    "./build/emu -i $AM_HOME/apps/hello/build/hello-riscv64-xs.bin \\\n",
    "--diff $NEMU_HOME/build/riscv64-nemu-interpreter-so -b 11000 -e 13000 --dump-wave\n",
    "\n",
    "ls $NOOP_HOME/build/*.vcd -lh"
   ]
  }
 ],
 "metadata": {
  "kernelspec": {
   "display_name": ".venv",
   "language": "python",
   "name": "python3"
  },
  "language_info": {
   "codemirror_mode": {
    "name": "ipython",
    "version": 3
   },
   "file_extension": ".py",
   "mimetype": "text/x-python",
   "name": "python",
   "nbconvert_exporter": "python",
   "pygments_lexer": "ipython3",
   "version": "3.10.12"
  }
 },
 "nbformat": 4,
 "nbformat_minor": 5
}
