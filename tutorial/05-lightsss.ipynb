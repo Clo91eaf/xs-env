{
 "cells": [
  {
   "cell_type": "markdown",
   "id": "f57ff898",
   "metadata": {},
   "source": [
    "# LightSSS：轻量级仿真快照\n",
    "\n",
    "在仿真过程中，LightSSS 会使用 fork() 函数记录进程的快照。当检测到 bug 时，它会被唤醒，并从 bug 发生前最新的快照开始生成若干个周期的波形。\n",
    "\n",
    "使用 LightSSS 转储波形。"
   ]
  },
  {
   "cell_type": "code",
   "execution_count": 1,
   "id": "5de95171",
   "metadata": {},
   "outputs": [],
   "source": [
    "%%bash\n",
    "\n",
    "cd ../ && source env.sh >/dev/null\n",
    "\n",
    "cd $NOOP_HOME\n",
    "\n",
    "./build/emu -i $AM_HOME/apps/hello/build/hello-riscv64-xs.bin \\\n",
    "--diff $NEMU_HOME/build/riscv64-nemu-interpreter-so \\\n",
    "--enable-fork \\\n",
    "2 > lightsss.err"
   ]
  },
  {
   "cell_type": "markdown",
   "id": "2715566b",
   "metadata": {},
   "source": [
    "如果您看到“the oldest checkpoint start to dump wave and dump nemu log...”，则表示 LightSSS 正在运行。之后，模拟将从现有的最新快照重新开始。"
   ]
  }
 ],
 "metadata": {
  "kernelspec": {
   "display_name": ".venv",
   "language": "python",
   "name": "python3"
  },
  "language_info": {
   "codemirror_mode": {
    "name": "ipython",
    "version": 3
   },
   "file_extension": ".py",
   "mimetype": "text/x-python",
   "name": "python",
   "nbconvert_exporter": "python",
   "pygments_lexer": "ipython3",
   "version": "3.10.12"
  }
 },
 "nbformat": 4,
 "nbformat_minor": 5
}
