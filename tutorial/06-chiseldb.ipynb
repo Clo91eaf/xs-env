{
 "cells": [
  {
   "cell_type": "markdown",
   "id": "93321384",
   "metadata": {},
   "source": [
    "# ChiselDB：调试友好的结构化数据库\n",
    "\n",
    "我们推出了 ChiselDB，一个易于调试的结构化数据库。它将在硬件模块接口之间插入探针，并直接使用 Chisel 代码中的 DPI-C 来传输捆绑信息和数据。在错误分析方面，它支持 SQL 查询，因此比 Waveform 更易于使用。\n",
    "\n",
    "要使用 ChiselDB，第一步是创建表。\n",
    "\n",
    "下面是一个例子，调用这个 API 函数，可以创建一个 chiselDB 表并定义名称和数据类型。"
   ]
  },
  {
   "cell_type": "code",
   "execution_count": null,
   "id": "e2410bce",
   "metadata": {
    "vscode": {
     "languageId": "plaintext"
    }
   },
   "outputs": [],
   "source": [
    "// Design source code:  XiangShan/utility/src/main/scala/utility/ChiselDB.scala\n",
    "// Usage:  Create table\n",
    "\n",
    "// API: def createTable[T <: Record](tableName: String, hw: T): Table[T] \n",
    "import huancun.utils.ChiselDB\n",
    "\n",
    "class MyBundle extends Bundle { \n",
    "    val fieldA = UInt(10.W)\n",
    "    val fieldB = UInt(20.W) \n",
    "} \n",
    "val table = ChiselDB.createTable(\"MyTableName\", new MyBundle)"
   ]
  },
  {
   "cell_type": "markdown",
   "id": "95caf084",
   "metadata": {},
   "source": [
    "第二步是注册探测器。\n",
    "\n",
    "您可以使用函数 table.log 来记录 en 为真时的信号值。"
   ]
  },
  {
   "cell_type": "code",
   "execution_count": null,
   "id": "608c5d4e",
   "metadata": {
    "vscode": {
     "languageId": "plaintext"
    }
   },
   "outputs": [],
   "source": [
    "// Usage:  Register probes\n",
    "\n",
    "/* APIs\n",
    "def log(data: T, en: Bool, site: String = \"\", clock: Clock, reset: Reset)\n",
    "def log(data: Valid[T], site: String, clock: Clock, reset: Reset): Unit\n",
    "def log(data: DecoupledIO[T], site: String, clock: Clock, reset: Reset): Unit\n",
    "*/\n",
    "table.log(\n",
    "  data = my_data /* hardware of type T */,\n",
    "  en = my_cond,   site = \"MyCallSite\",\n",
    "  clock = clock,   reset = reset\n",
    ")"
   ]
  },
  {
   "cell_type": "markdown",
   "id": "d42f3f58",
   "metadata": {},
   "source": [
    "这是一个完整的例子，这里记录一下 L2TLB 的 missqueue 的输入输出请求。"
   ]
  },
  {
   "cell_type": "markdown",
   "id": "f520ab5f",
   "metadata": {},
   "source": [
    "// Example:  XiangShan/src/main/scala/xiangshan/cache/mmu/L2TLB.scala\n",
    "\n",
    "class L2TlbMissQueueDB(implicit p: Parameters) extends TlbBundle {\n",
    "   val vpn = UInt(vpnLen.W)\n",
    "}\n",
    "\n",
    "val L2TlbMissQueueInDB, L2TlbMissQueueOutDB = Wire(new L2TlbMissQueueDB)\n",
    "L2TlbMissQueueInDB.vpn := missQueue.io.in.bits.vpn\n",
    "L2TlbMissQueueOutDB.vpn := missQueue.io.out.bits.vpn\n",
    "\n",
    "val L2TlbMissQueueTable = ChiselDB.createTable(\n",
    "    \"L2TlbMissQueue_hart\" + p(XSCoreParamsKey).HartId.toString, new L2TlbMissQueueDB)\n",
    "\n",
    "L2TlbMissQueueTable.log(L2TlbMissQueueInDB, missQueue.io.in.fire, \"L2TlbMissQueueIn\", clock, reset)\n",
    "L2TlbMissQueueTable.log(L2TlbMissQueueOutDB, missQueue.io.out.fire, \"L2TlbMissQueueOut\", clock, reset)"
   ]
  },
  {
   "cell_type": "code",
   "execution_count": null,
   "id": "22919ee4",
   "metadata": {
    "vscode": {
     "languageId": "plaintext"
    }
   },
   "outputs": [],
   "source": [
    "// Example:  XiangShan/src/main/scala/xiangshan/cache/mmu/L2TLB.scala\n",
    "\n",
    "class L2TlbMissQueueDB(implicit p: Parameters) extends TlbBundle {\n",
    "   val vpn = UInt(vpnLen.W)\n",
    "}\n",
    "\n",
    "val L2TlbMissQueueInDB, L2TlbMissQueueOutDB = Wire(new L2TlbMissQueueDB)\n",
    "L2TlbMissQueueInDB.vpn := missQueue.io.in.bits.vpn\n",
    "L2TlbMissQueueOutDB.vpn := missQueue.io.out.bits.vpn\n",
    "\n",
    "val L2TlbMissQueueTable = ChiselDB.createTable(\n",
    "    \"L2TlbMissQueue_hart\" + p(XSCoreParamsKey).HartId.toString, new L2TlbMissQueueDB)\n",
    "\n",
    "L2TlbMissQueueTable.log(L2TlbMissQueueInDB, missQueue.io.in.fire, \"L2TlbMissQueueIn\", clock, reset)\n",
    "L2TlbMissQueueTable.log(L2TlbMissQueueOutDB, missQueue.io.out.fire, \"L2TlbMissQueueOut\", clock, reset)"
   ]
  },
  {
   "cell_type": "markdown",
   "id": "7f673a11",
   "metadata": {},
   "source": [
    "当你将缓存之间的总线事务记录到 SQLite3 数据库中时，你可以看到 ChiselDB 的结果，我们称之为 TL-Log，因为我们使用了 Tilelink 总线协议。它支持离线错误检测和性能分析。\n",
    "\n",
    "让我们注入一个 bug 来演示如何使用 ChiselDB。我们提供了一个已编译的仿真器，该仿真器存在一个 bug，即从 L2 到 L3 缓存的所有释放数据都是常量值。"
   ]
  },
  {
   "cell_type": "markdown",
   "id": "2c8c366b",
   "metadata": {},
   "source": [
    "运行以下命令即可模拟预构建的仿真模型。新增了参数 -dump-db 来转储数据库。"
   ]
  },
  {
   "cell_type": "markdown",
   "id": "a2b73bf5",
   "metadata": {},
   "source": []
  }
 ],
 "metadata": {
  "language_info": {
   "name": "python"
  }
 },
 "nbformat": 4,
 "nbformat_minor": 5
}
